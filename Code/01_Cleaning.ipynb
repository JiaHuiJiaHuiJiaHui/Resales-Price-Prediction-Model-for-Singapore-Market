{
 "cells": [
  {
   "cell_type": "code",
   "execution_count": 1,
   "id": "ac224358-3429-4cf9-a763-a58e40a26f31",
   "metadata": {},
   "outputs": [],
   "source": [
    "#import all library\n",
    "import pandas as pd\n",
    "import numpy as np\n",
    "from sklearn.impute import KNNImputer\n",
    "\n",
    "pd.set_option('display.max_columns', 100)\n",
    "pd.set_option('display.max_rows', 100)"
   ]
  },
  {
   "cell_type": "markdown",
   "id": "physical-station",
   "metadata": {},
   "source": [
    "### Data Set"
   ]
  },
  {
   "cell_type": "markdown",
   "id": "eastern-development",
   "metadata": {},
   "source": [
    "1. Housing Resales Price from 2012 to 2021"
   ]
  },
  {
   "cell_type": "code",
   "execution_count": 2,
   "id": "mediterranean-ethernet",
   "metadata": {},
   "outputs": [
    {
     "name": "stderr",
     "output_type": "stream",
     "text": [
      "C:\\Users\\Jia Hui\\AppData\\Local\\Temp\\ipykernel_8572\\1389411070.py:2: DtypeWarning: Columns (41) have mixed types. Specify dtype option on import or set low_memory=False.\n",
      "  housing_train = pd.read_csv('../Data/train.csv')\n",
      "C:\\Users\\Jia Hui\\AppData\\Local\\Temp\\ipykernel_8572\\1389411070.py:3: DtypeWarning: Columns (40) have mixed types. Specify dtype option on import or set low_memory=False.\n",
      "  housing_test = pd.read_csv('../Data/test.csv')\n"
     ]
    },
    {
     "ename": "ImportError",
     "evalue": "Missing optional dependency 'openpyxl'.  Use pip or conda to install openpyxl.",
     "output_type": "error",
     "traceback": [
      "\u001b[1;31m---------------------------------------------------------------------------\u001b[0m",
      "\u001b[1;31mModuleNotFoundError\u001b[0m                       Traceback (most recent call last)",
      "File \u001b[1;32m~\\Anaconda3\\envs\\dsi-sg\\lib\\site-packages\\pandas\\compat\\_optional.py:141\u001b[0m, in \u001b[0;36mimport_optional_dependency\u001b[1;34m(name, extra, errors, min_version)\u001b[0m\n\u001b[0;32m    140\u001b[0m \u001b[38;5;28;01mtry\u001b[39;00m:\n\u001b[1;32m--> 141\u001b[0m     module \u001b[38;5;241m=\u001b[39m \u001b[43mimportlib\u001b[49m\u001b[38;5;241;43m.\u001b[39;49m\u001b[43mimport_module\u001b[49m\u001b[43m(\u001b[49m\u001b[43mname\u001b[49m\u001b[43m)\u001b[49m\n\u001b[0;32m    142\u001b[0m \u001b[38;5;28;01mexcept\u001b[39;00m \u001b[38;5;167;01mImportError\u001b[39;00m:\n",
      "File \u001b[1;32m~\\Anaconda3\\envs\\dsi-sg\\lib\\importlib\\__init__.py:126\u001b[0m, in \u001b[0;36mimport_module\u001b[1;34m(name, package)\u001b[0m\n\u001b[0;32m    125\u001b[0m         level \u001b[38;5;241m+\u001b[39m\u001b[38;5;241m=\u001b[39m \u001b[38;5;241m1\u001b[39m\n\u001b[1;32m--> 126\u001b[0m \u001b[38;5;28;01mreturn\u001b[39;00m \u001b[43m_bootstrap\u001b[49m\u001b[38;5;241;43m.\u001b[39;49m\u001b[43m_gcd_import\u001b[49m\u001b[43m(\u001b[49m\u001b[43mname\u001b[49m\u001b[43m[\u001b[49m\u001b[43mlevel\u001b[49m\u001b[43m:\u001b[49m\u001b[43m]\u001b[49m\u001b[43m,\u001b[49m\u001b[43m \u001b[49m\u001b[43mpackage\u001b[49m\u001b[43m,\u001b[49m\u001b[43m \u001b[49m\u001b[43mlevel\u001b[49m\u001b[43m)\u001b[49m\n",
      "File \u001b[1;32m<frozen importlib._bootstrap>:1050\u001b[0m, in \u001b[0;36m_gcd_import\u001b[1;34m(name, package, level)\u001b[0m\n",
      "File \u001b[1;32m<frozen importlib._bootstrap>:1027\u001b[0m, in \u001b[0;36m_find_and_load\u001b[1;34m(name, import_)\u001b[0m\n",
      "File \u001b[1;32m<frozen importlib._bootstrap>:1004\u001b[0m, in \u001b[0;36m_find_and_load_unlocked\u001b[1;34m(name, import_)\u001b[0m\n",
      "\u001b[1;31mModuleNotFoundError\u001b[0m: No module named 'openpyxl'",
      "\nDuring handling of the above exception, another exception occurred:\n",
      "\u001b[1;31mImportError\u001b[0m                               Traceback (most recent call last)",
      "Cell \u001b[1;32mIn[2], line 4\u001b[0m\n\u001b[0;32m      2\u001b[0m housing_train \u001b[38;5;241m=\u001b[39m pd\u001b[38;5;241m.\u001b[39mread_csv(\u001b[38;5;124m'\u001b[39m\u001b[38;5;124m../Data/train.csv\u001b[39m\u001b[38;5;124m'\u001b[39m)\n\u001b[0;32m      3\u001b[0m housing_test \u001b[38;5;241m=\u001b[39m pd\u001b[38;5;241m.\u001b[39mread_csv(\u001b[38;5;124m'\u001b[39m\u001b[38;5;124m../Data/test.csv\u001b[39m\u001b[38;5;124m'\u001b[39m)\n\u001b[1;32m----> 4\u001b[0m singapore_regions \u001b[38;5;241m=\u001b[39m \u001b[43mpd\u001b[49m\u001b[38;5;241;43m.\u001b[39;49m\u001b[43mread_excel\u001b[49m\u001b[43m(\u001b[49m\u001b[38;5;124;43m'\u001b[39;49m\u001b[38;5;124;43m../Data/Singapore_Regions.xlsx\u001b[39;49m\u001b[38;5;124;43m'\u001b[39;49m\u001b[43m)\u001b[49m\n",
      "File \u001b[1;32m~\\Anaconda3\\envs\\dsi-sg\\lib\\site-packages\\pandas\\util\\_decorators.py:211\u001b[0m, in \u001b[0;36mdeprecate_kwarg.<locals>._deprecate_kwarg.<locals>.wrapper\u001b[1;34m(*args, **kwargs)\u001b[0m\n\u001b[0;32m    209\u001b[0m     \u001b[38;5;28;01melse\u001b[39;00m:\n\u001b[0;32m    210\u001b[0m         kwargs[new_arg_name] \u001b[38;5;241m=\u001b[39m new_arg_value\n\u001b[1;32m--> 211\u001b[0m \u001b[38;5;28;01mreturn\u001b[39;00m func(\u001b[38;5;241m*\u001b[39margs, \u001b[38;5;241m*\u001b[39m\u001b[38;5;241m*\u001b[39mkwargs)\n",
      "File \u001b[1;32m~\\Anaconda3\\envs\\dsi-sg\\lib\\site-packages\\pandas\\util\\_decorators.py:331\u001b[0m, in \u001b[0;36mdeprecate_nonkeyword_arguments.<locals>.decorate.<locals>.wrapper\u001b[1;34m(*args, **kwargs)\u001b[0m\n\u001b[0;32m    325\u001b[0m \u001b[38;5;28;01mif\u001b[39;00m \u001b[38;5;28mlen\u001b[39m(args) \u001b[38;5;241m>\u001b[39m num_allow_args:\n\u001b[0;32m    326\u001b[0m     warnings\u001b[38;5;241m.\u001b[39mwarn(\n\u001b[0;32m    327\u001b[0m         msg\u001b[38;5;241m.\u001b[39mformat(arguments\u001b[38;5;241m=\u001b[39m_format_argument_list(allow_args)),\n\u001b[0;32m    328\u001b[0m         \u001b[38;5;167;01mFutureWarning\u001b[39;00m,\n\u001b[0;32m    329\u001b[0m         stacklevel\u001b[38;5;241m=\u001b[39mfind_stack_level(),\n\u001b[0;32m    330\u001b[0m     )\n\u001b[1;32m--> 331\u001b[0m \u001b[38;5;28;01mreturn\u001b[39;00m func(\u001b[38;5;241m*\u001b[39margs, \u001b[38;5;241m*\u001b[39m\u001b[38;5;241m*\u001b[39mkwargs)\n",
      "File \u001b[1;32m~\\Anaconda3\\envs\\dsi-sg\\lib\\site-packages\\pandas\\io\\excel\\_base.py:482\u001b[0m, in \u001b[0;36mread_excel\u001b[1;34m(io, sheet_name, header, names, index_col, usecols, squeeze, dtype, engine, converters, true_values, false_values, skiprows, nrows, na_values, keep_default_na, na_filter, verbose, parse_dates, date_parser, thousands, decimal, comment, skipfooter, convert_float, mangle_dupe_cols, storage_options)\u001b[0m\n\u001b[0;32m    480\u001b[0m \u001b[38;5;28;01mif\u001b[39;00m \u001b[38;5;129;01mnot\u001b[39;00m \u001b[38;5;28misinstance\u001b[39m(io, ExcelFile):\n\u001b[0;32m    481\u001b[0m     should_close \u001b[38;5;241m=\u001b[39m \u001b[38;5;28;01mTrue\u001b[39;00m\n\u001b[1;32m--> 482\u001b[0m     io \u001b[38;5;241m=\u001b[39m \u001b[43mExcelFile\u001b[49m\u001b[43m(\u001b[49m\u001b[43mio\u001b[49m\u001b[43m,\u001b[49m\u001b[43m \u001b[49m\u001b[43mstorage_options\u001b[49m\u001b[38;5;241;43m=\u001b[39;49m\u001b[43mstorage_options\u001b[49m\u001b[43m,\u001b[49m\u001b[43m \u001b[49m\u001b[43mengine\u001b[49m\u001b[38;5;241;43m=\u001b[39;49m\u001b[43mengine\u001b[49m\u001b[43m)\u001b[49m\n\u001b[0;32m    483\u001b[0m \u001b[38;5;28;01melif\u001b[39;00m engine \u001b[38;5;129;01mand\u001b[39;00m engine \u001b[38;5;241m!=\u001b[39m io\u001b[38;5;241m.\u001b[39mengine:\n\u001b[0;32m    484\u001b[0m     \u001b[38;5;28;01mraise\u001b[39;00m \u001b[38;5;167;01mValueError\u001b[39;00m(\n\u001b[0;32m    485\u001b[0m         \u001b[38;5;124m\"\u001b[39m\u001b[38;5;124mEngine should not be specified when passing \u001b[39m\u001b[38;5;124m\"\u001b[39m\n\u001b[0;32m    486\u001b[0m         \u001b[38;5;124m\"\u001b[39m\u001b[38;5;124man ExcelFile - ExcelFile already has the engine set\u001b[39m\u001b[38;5;124m\"\u001b[39m\n\u001b[0;32m    487\u001b[0m     )\n",
      "File \u001b[1;32m~\\Anaconda3\\envs\\dsi-sg\\lib\\site-packages\\pandas\\io\\excel\\_base.py:1695\u001b[0m, in \u001b[0;36mExcelFile.__init__\u001b[1;34m(self, path_or_buffer, engine, storage_options)\u001b[0m\n\u001b[0;32m   1692\u001b[0m \u001b[38;5;28mself\u001b[39m\u001b[38;5;241m.\u001b[39mengine \u001b[38;5;241m=\u001b[39m engine\n\u001b[0;32m   1693\u001b[0m \u001b[38;5;28mself\u001b[39m\u001b[38;5;241m.\u001b[39mstorage_options \u001b[38;5;241m=\u001b[39m storage_options\n\u001b[1;32m-> 1695\u001b[0m \u001b[38;5;28mself\u001b[39m\u001b[38;5;241m.\u001b[39m_reader \u001b[38;5;241m=\u001b[39m \u001b[38;5;28;43mself\u001b[39;49m\u001b[38;5;241;43m.\u001b[39;49m\u001b[43m_engines\u001b[49m\u001b[43m[\u001b[49m\u001b[43mengine\u001b[49m\u001b[43m]\u001b[49m\u001b[43m(\u001b[49m\u001b[38;5;28;43mself\u001b[39;49m\u001b[38;5;241;43m.\u001b[39;49m\u001b[43m_io\u001b[49m\u001b[43m,\u001b[49m\u001b[43m \u001b[49m\u001b[43mstorage_options\u001b[49m\u001b[38;5;241;43m=\u001b[39;49m\u001b[43mstorage_options\u001b[49m\u001b[43m)\u001b[49m\n",
      "File \u001b[1;32m~\\Anaconda3\\envs\\dsi-sg\\lib\\site-packages\\pandas\\io\\excel\\_openpyxl.py:556\u001b[0m, in \u001b[0;36mOpenpyxlReader.__init__\u001b[1;34m(self, filepath_or_buffer, storage_options)\u001b[0m\n\u001b[0;32m    541\u001b[0m \u001b[38;5;129m@doc\u001b[39m(storage_options\u001b[38;5;241m=\u001b[39m_shared_docs[\u001b[38;5;124m\"\u001b[39m\u001b[38;5;124mstorage_options\u001b[39m\u001b[38;5;124m\"\u001b[39m])\n\u001b[0;32m    542\u001b[0m \u001b[38;5;28;01mdef\u001b[39;00m \u001b[38;5;21m__init__\u001b[39m(\n\u001b[0;32m    543\u001b[0m     \u001b[38;5;28mself\u001b[39m,\n\u001b[0;32m    544\u001b[0m     filepath_or_buffer: FilePath \u001b[38;5;241m|\u001b[39m ReadBuffer[\u001b[38;5;28mbytes\u001b[39m],\n\u001b[0;32m    545\u001b[0m     storage_options: StorageOptions \u001b[38;5;241m=\u001b[39m \u001b[38;5;28;01mNone\u001b[39;00m,\n\u001b[0;32m    546\u001b[0m ) \u001b[38;5;241m-\u001b[39m\u001b[38;5;241m>\u001b[39m \u001b[38;5;28;01mNone\u001b[39;00m:\n\u001b[0;32m    547\u001b[0m \u001b[38;5;250m    \u001b[39m\u001b[38;5;124;03m\"\"\"\u001b[39;00m\n\u001b[0;32m    548\u001b[0m \u001b[38;5;124;03m    Reader using openpyxl engine.\u001b[39;00m\n\u001b[0;32m    549\u001b[0m \n\u001b[1;32m   (...)\u001b[0m\n\u001b[0;32m    554\u001b[0m \u001b[38;5;124;03m    {storage_options}\u001b[39;00m\n\u001b[0;32m    555\u001b[0m \u001b[38;5;124;03m    \"\"\"\u001b[39;00m\n\u001b[1;32m--> 556\u001b[0m     \u001b[43mimport_optional_dependency\u001b[49m\u001b[43m(\u001b[49m\u001b[38;5;124;43m\"\u001b[39;49m\u001b[38;5;124;43mopenpyxl\u001b[39;49m\u001b[38;5;124;43m\"\u001b[39;49m\u001b[43m)\u001b[49m\n\u001b[0;32m    557\u001b[0m     \u001b[38;5;28msuper\u001b[39m()\u001b[38;5;241m.\u001b[39m\u001b[38;5;21m__init__\u001b[39m(filepath_or_buffer, storage_options\u001b[38;5;241m=\u001b[39mstorage_options)\n",
      "File \u001b[1;32m~\\Anaconda3\\envs\\dsi-sg\\lib\\site-packages\\pandas\\compat\\_optional.py:144\u001b[0m, in \u001b[0;36mimport_optional_dependency\u001b[1;34m(name, extra, errors, min_version)\u001b[0m\n\u001b[0;32m    142\u001b[0m \u001b[38;5;28;01mexcept\u001b[39;00m \u001b[38;5;167;01mImportError\u001b[39;00m:\n\u001b[0;32m    143\u001b[0m     \u001b[38;5;28;01mif\u001b[39;00m errors \u001b[38;5;241m==\u001b[39m \u001b[38;5;124m\"\u001b[39m\u001b[38;5;124mraise\u001b[39m\u001b[38;5;124m\"\u001b[39m:\n\u001b[1;32m--> 144\u001b[0m         \u001b[38;5;28;01mraise\u001b[39;00m \u001b[38;5;167;01mImportError\u001b[39;00m(msg)\n\u001b[0;32m    145\u001b[0m     \u001b[38;5;28;01melse\u001b[39;00m:\n\u001b[0;32m    146\u001b[0m         \u001b[38;5;28;01mreturn\u001b[39;00m \u001b[38;5;28;01mNone\u001b[39;00m\n",
      "\u001b[1;31mImportError\u001b[0m: Missing optional dependency 'openpyxl'.  Use pip or conda to install openpyxl."
     ]
    }
   ],
   "source": [
    "#Read CSV file\n",
    "housing_train = pd.read_csv('../Data/train.csv')\n",
    "housing_test = pd.read_csv('../Data/test.csv')\n",
    "singapore_regions = pd.read_excel('../Data/Singapore_Regions.xlsx')"
   ]
  },
  {
   "cell_type": "code",
   "execution_count": null,
   "id": "individual-collins",
   "metadata": {},
   "outputs": [],
   "source": [
    "housing_train['train'] = 1\n",
    "housing_test['train'] = 0\n",
    "\n",
    "housing = pd.concat([housing_train,housing_test])"
   ]
  },
  {
   "cell_type": "code",
   "execution_count": null,
   "id": "7f2a228e-59d3-428c-8406-ac6b80bc50c1",
   "metadata": {
    "scrolled": true
   },
   "outputs": [],
   "source": [
    "#Display top 5 rows\n",
    "housing.head()"
   ]
  },
  {
   "cell_type": "code",
   "execution_count": null,
   "id": "positive-savage",
   "metadata": {},
   "outputs": [],
   "source": [
    "#Display top 5 rows\n",
    "singapore_regions.head()"
   ]
  },
  {
   "cell_type": "code",
   "execution_count": null,
   "id": "c8e40345-d8fe-4516-8ed7-f6ed163193f8",
   "metadata": {},
   "outputs": [],
   "source": [
    "housing.shape"
   ]
  },
  {
   "cell_type": "code",
   "execution_count": null,
   "id": "8abfb183-9a3f-4cc7-907e-a398353dc2c7",
   "metadata": {},
   "outputs": [],
   "source": [
    "#Check for null values\n",
    "print(housing[housing['train']==1].isnull().sum())"
   ]
  },
  {
   "cell_type": "code",
   "execution_count": null,
   "id": "4f610022-e00b-4406-b55d-e3c8418f50cc",
   "metadata": {},
   "outputs": [],
   "source": [
    "missing_value_percent = (829/150634) * 100 \n",
    "missing_value_percent"
   ]
  },
  {
   "cell_type": "markdown",
   "id": "178d724e-c4b9-4465-826d-75a88867e5d0",
   "metadata": {},
   "source": [
    "Dropping the missing values as it is less than 1%"
   ]
  },
  {
   "cell_type": "markdown",
   "id": "08c4d39c-6b23-4d18-a9b1-532095188014",
   "metadata": {},
   "source": [
    "### Data Cleaning"
   ]
  },
  {
   "cell_type": "code",
   "execution_count": null,
   "id": "6f191585-17d9-4d22-9411-23a546c7a475",
   "metadata": {},
   "outputs": [],
   "source": [
    "# Change all the categorical boolean  to 1 and 0 \n",
    "boolean_cols = ['commercial','market_hawker','multistorey_carpark','precinct_pavilion']\n",
    "for col in boolean_cols:\n",
    "    housing[col] =  housing[col].map({'Y':1,'N':0})\n",
    "\n",
    "#Change Na values in Mall_Within_* and hawker_Within_* column to 0 \n",
    "cols = ['Mall_Within', 'Hawker_Within']\n",
    "distance_list = ['_500m', '_1km', '_2km']\n",
    "new_cols = []\n",
    "\n",
    "# Generate new column names and fill NaN values with zeros\n",
    "for col in cols:\n",
    "    for distance in distance_list:\n",
    "        new_col = col + distance\n",
    "        new_cols.append(new_col)\n",
    "\n",
    "for col in new_cols:\n",
    "    housing[col] = housing[col].fillna(0)\n",
    "\n",
    "    \n",
    "#Drop Na Valus for train = 1 only (Train Dataset)\n",
    "housing['indicator_to_drop'] = np.where((housing['train'] == 1) & (housing['Mall_Nearest_Distance'].isna()), 1, 0)\n",
    "housing = housing[housing['indicator_to_drop'] !=1 ]\n",
    "\n",
    "\n",
    "# Include Regions ans Mature indicator from singapore_regions df to housing df by left join\n",
    "housing = housing.merge(singapore_regions, how = 'left', left_on = 'planning_area' , right_on = 'area')\n",
    "\n",
    "# Drop Unnecessary columns\n",
    "# Drop residential because all the column is Y\n",
    "# block, street_name, address, postal code can be replaced by lat, long, and town\n",
    "# lease_commence_date and year_completed can be replaced by hbd_age\n",
    "# lower, upper, mid can be replaced by storey_range and mid_storey\n",
    "# Drop floor_area_sqm as it is a convertion unit from floor_area_sqft\n",
    "\n",
    "housing.drop(columns = ['residential','area','town','block','street_name','lease_commence_date','lower','upper','mid','address','postal','year_completed','floor_area_sqm'],inplace = True)\n",
    "\n",
    "\n",
    "# Change all column to lower case\n",
    "housing.columns = housing.columns.str.lower()\n",
    "\n",
    "# Create one more column to indicate top 10 primary school (1,0)\n",
    "top_10_primary_school = ['Nanyang Primary School','Catholic High School','Tao Nan School','Nan Hua Primary School','St. Hilda’s Primary School','Henry Park Primary School','Anglo-Chinese School Primary','Raffles Girls’ Primary School','Pei Hwa Presbyterian Primary School','CHIJ St. Nicholas Girls’ School']\n",
    "housing['top_10_pri_sch'] = np.where(housing['pri_sch_name'].isin(top_10_primary_school) , 1, 0)\n",
    "\n",
    "# Create one more column to rank sec_sch_name based on cutoff_point\n",
    "housing['cutoff_point_rank'] = housing['cutoff_point'].rank(ascending=False, method='dense')\n",
    "housing.drop(columns = ['cutoff_point'],inplace = True)\n"
   ]
  },
  {
   "cell_type": "code",
   "execution_count": null,
   "id": "guilty-writing",
   "metadata": {},
   "outputs": [],
   "source": [
    "housing[housing['train']==0].head()"
   ]
  },
  {
   "cell_type": "code",
   "execution_count": null,
   "id": "6fd3b9ee-cc47-4b43-829e-41093f0c5387",
   "metadata": {},
   "outputs": [],
   "source": [
    "#Check for null values\n",
    "print(housing[housing['train']==1].isnull().sum())"
   ]
  },
  {
   "cell_type": "code",
   "execution_count": null,
   "id": "seven-visit",
   "metadata": {},
   "outputs": [],
   "source": [
    "#Train on non na value \n",
    "#However, fill na value for Mall_Nearest_Distance when train = 0 (Test Dataset)\n",
    "\n",
    "# Create an instance of KNNImputer\n",
    "imputer = KNNImputer(n_neighbors=5)\n",
    "\n",
    "\n",
    "X = housing[['mall_nearest_distance']]\n",
    "\n",
    "# Fit the imputer to your data and transform it\n",
    "X_imputed = imputer.fit_transform(X)\n",
    "\n",
    "# Replace the original 'mall_nearest_distance' column in the DataFrame with the imputed values\n",
    "housing['mall_nearest_distance'] = X_imputed"
   ]
  },
  {
   "cell_type": "code",
   "execution_count": null,
   "id": "nutritional-scientist",
   "metadata": {},
   "outputs": [],
   "source": [
    "#Check for null values\n",
    "print(housing[housing['train']==0].isnull().sum())"
   ]
  },
  {
   "cell_type": "code",
   "execution_count": null,
   "id": "false-shock",
   "metadata": {},
   "outputs": [],
   "source": [
    "housing[housing['train']==0].head()"
   ]
  },
  {
   "cell_type": "code",
   "execution_count": null,
   "id": "092e45ad-3b60-4b2b-b6e2-0bf1927189f4",
   "metadata": {},
   "outputs": [],
   "source": [
    "#Save to csv file\n",
    "housing[housing['train']==1].to_csv('../data/cleaned_train_data.csv', index=False)"
   ]
  },
  {
   "cell_type": "code",
   "execution_count": null,
   "id": "conventional-coupon",
   "metadata": {},
   "outputs": [],
   "source": [
    "# Drop lat and long related columns for regression models\n",
    "cols = housing.columns\n",
    "subtext = ['latitude','longitude']\n",
    "\n",
    "cols_to_drop = [col for col in cols if any(sub in col for sub in subtext)]\n",
    "housing_2 = housing.drop(columns = cols_to_drop , inplace = False)"
   ]
  },
  {
   "cell_type": "code",
   "execution_count": null,
   "id": "distinguished-approach",
   "metadata": {},
   "outputs": [],
   "source": [
    "#Save to csv file\n",
    "housing_2.to_csv('../data/cleaned_combined_data_wo_lat_long.csv', index=False)"
   ]
  }
 ],
 "metadata": {
  "kernelspec": {
   "display_name": "Python 3 (ipykernel)",
   "language": "python",
   "name": "python3"
  },
  "language_info": {
   "codemirror_mode": {
    "name": "ipython",
    "version": 3
   },
   "file_extension": ".py",
   "mimetype": "text/x-python",
   "name": "python",
   "nbconvert_exporter": "python",
   "pygments_lexer": "ipython3",
   "version": "3.10.13"
  }
 },
 "nbformat": 4,
 "nbformat_minor": 5
}
